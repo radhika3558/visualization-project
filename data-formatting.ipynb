{
 "cells": [
  {
   "cell_type": "code",
   "execution_count": 3,
   "metadata": {},
   "outputs": [],
   "source": [
    "import pandas as pd \n",
    "# Define the data based on the new image provided\n",
    "data_new = {\n",
    "    \"Restoration Status\": [\"Restored\", \"Not restored\", \"Restoration ongoing\"],\n",
    "    \"Highly polluted\": [8, 10, 4],\n",
    "    \"Moderately polluted\": [11, 2, 2],\n",
    "    \"Less polluted\": [13, 2, 0]\n",
    "}\n",
    "\n",
    "# Create a DataFrame\n",
    "df_new = pd.DataFrame(data_new)\n",
    "\n",
    "# Convert to a long format suitable for a Sankey diagram\n",
    "sankey_data_new = pd.melt(df_new, id_vars=[\"Restoration Status\"], \n",
    "                          var_name=\"Pollution Level\", \n",
    "                          value_name=\"Count\")\n",
    "\n",
    "# Filter out rows with zero counts\n",
    "sankey_data_new = sankey_data_new[sankey_data_new[\"Count\"] > 0]\n",
    "\n"
   ]
  },
  {
   "cell_type": "code",
   "execution_count": 5,
   "metadata": {},
   "outputs": [],
   "source": [
    "#change column names\n",
    "sankey_data_new.columns = ['source', 'target', 'value']"
   ]
  },
  {
   "cell_type": "code",
   "execution_count": 7,
   "metadata": {},
   "outputs": [
    {
     "data": {
      "text/plain": [
       "(                source               target  value\n",
       " 0             Restored      Highly polluted      8\n",
       " 1         Not restored      Highly polluted     10\n",
       " 2  Restoration ongoing      Highly polluted      4\n",
       " 3             Restored  Moderately polluted     11\n",
       " 4         Not restored  Moderately polluted      2,\n",
       " 'sankey_data.csv')"
      ]
     },
     "execution_count": 7,
     "metadata": {},
     "output_type": "execute_result"
    }
   ],
   "source": [
    "# Save the formatted data to a CSV file\n",
    "output_path = \"sankey_data.csv\"\n",
    "sankey_data_new.to_csv(output_path, index=False)\n",
    "\n",
    "sankey_data_new.head(), output_path"
   ]
  }
 ],
 "metadata": {
  "kernelspec": {
   "display_name": "Python 3",
   "language": "python",
   "name": "python3"
  },
  "language_info": {
   "codemirror_mode": {
    "name": "ipython",
    "version": 3
   },
   "file_extension": ".py",
   "mimetype": "text/x-python",
   "name": "python",
   "nbconvert_exporter": "python",
   "pygments_lexer": "ipython3",
   "version": "3.11.6"
  }
 },
 "nbformat": 4,
 "nbformat_minor": 2
}
